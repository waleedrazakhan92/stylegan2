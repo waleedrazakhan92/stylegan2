{
 "cells": [
  {
   "cell_type": "code",
   "execution_count": null,
   "metadata": {
    "colab": {
     "base_uri": "https://localhost:8080/"
    },
    "executionInfo": {
     "elapsed": 2067,
     "status": "ok",
     "timestamp": 1609328984381,
     "user": {
      "displayName": "Waleed Raza",
      "photoUrl": "",
      "userId": "17515228258510558593"
     },
     "user_tz": -300
    },
    "id": "FQICcJpNe3Yp",
    "outputId": "d83085d5-57cc-407a-c9db-1aa0692728bc"
   },
   "outputs": [],
   "source": [
    "!pip install isr --no-deps"
   ]
  },
  {
   "cell_type": "code",
   "execution_count": null,
   "metadata": {
    "colab": {
     "base_uri": "https://localhost:8080/"
    },
    "executionInfo": {
     "elapsed": 1043,
     "status": "ok",
     "timestamp": 1609333569868,
     "user": {
      "displayName": "Waleed Raza",
      "photoUrl": "",
      "userId": "17515228258510558593"
     },
     "user_tz": -300
    },
    "id": "AqzdBovA3b2d",
    "outputId": "8c1aaf1d-0761-4ae6-ed8d-7f9139ddb49a"
   },
   "outputs": [],
   "source": [
    "cd /content/drive/MyDrive/Colab Notebooks/testing/style_gan_server"
   ]
  },
  {
   "cell_type": "code",
   "execution_count": null,
   "metadata": {
    "colab": {
     "base_uri": "https://localhost:8080/"
    },
    "executionInfo": {
     "elapsed": 1170,
     "status": "ok",
     "timestamp": 1609330247351,
     "user": {
      "displayName": "Waleed Raza",
      "photoUrl": "",
      "userId": "17515228258510558593"
     },
     "user_tz": -300
    },
    "id": "GYZcLEwj3rs7",
    "outputId": "e5a55d1c-31a4-4c1b-a411-da02fdf9c979"
   },
   "outputs": [],
   "source": [
    "ls"
   ]
  },
  {
   "cell_type": "code",
   "execution_count": null,
   "metadata": {
    "executionInfo": {
     "elapsed": 991,
     "status": "ok",
     "timestamp": 1609333572793,
     "user": {
      "displayName": "Waleed Raza",
      "photoUrl": "",
      "userId": "17515228258510558593"
     },
     "user_tz": -300
    },
    "id": "SxWttDqjWGyN"
   },
   "outputs": [],
   "source": [
    "!sudo chmod +x *"
   ]
  },
  {
   "cell_type": "code",
   "execution_count": null,
   "metadata": {
    "executionInfo": {
     "elapsed": 1425,
     "status": "ok",
     "timestamp": 1609330249788,
     "user": {
      "displayName": "Waleed Raza",
      "photoUrl": "",
      "userId": "17515228258510558593"
     },
     "user_tz": -300
    },
    "id": "zx8wC0ZL3vS3"
   },
   "outputs": [],
   "source": [
    "# !./run_init"
   ]
  },
  {
   "cell_type": "code",
   "execution_count": null,
   "metadata": {
    "executionInfo": {
     "elapsed": 683,
     "status": "ok",
     "timestamp": 1609330251329,
     "user": {
      "displayName": "Waleed Raza",
      "photoUrl": "",
      "userId": "17515228258510558593"
     },
     "user_tz": -300
    },
    "id": "ByBVLS2b4w68"
   },
   "outputs": [],
   "source": [
    "# !./run_preprocess"
   ]
  },
  {
   "cell_type": "code",
   "execution_count": null,
   "metadata": {
    "executionInfo": {
     "elapsed": 948,
     "status": "ok",
     "timestamp": 1609333580269,
     "user": {
      "displayName": "Waleed Raza",
      "photoUrl": "",
      "userId": "17515228258510558593"
     },
     "user_tz": -300
    },
    "id": "iezJqU7D417G"
   },
   "outputs": [],
   "source": [
    "%tensorflow_version 2.x\n",
    "# !./run_generate_tf_record"
   ]
  },
  {
   "cell_type": "code",
   "execution_count": null,
   "metadata": {
    "executionInfo": {
     "elapsed": 783,
     "status": "ok",
     "timestamp": 1609330253328,
     "user": {
      "displayName": "Waleed Raza",
      "photoUrl": "",
      "userId": "17515228258510558593"
     },
     "user_tz": -300
    },
    "id": "THN42WvE5xFn"
   },
   "outputs": [],
   "source": [
    "# !./run_train"
   ]
  },
  {
   "cell_type": "code",
   "execution_count": null,
   "metadata": {
    "executionInfo": {
     "elapsed": 980,
     "status": "ok",
     "timestamp": 1609333585019,
     "user": {
      "displayName": "Waleed Raza",
      "photoUrl": "",
      "userId": "17515228258510558593"
     },
     "user_tz": -300
    },
    "id": "sM7R1q2P5-aM"
   },
   "outputs": [],
   "source": [
    "# !./run_generate_art"
   ]
  },
  {
   "cell_type": "code",
   "execution_count": null,
   "metadata": {
    "colab": {
     "base_uri": "https://localhost:8080/"
    },
    "executionInfo": {
     "elapsed": 242983,
     "status": "ok",
     "timestamp": 1609333938637,
     "user": {
      "displayName": "Waleed Raza",
      "photoUrl": "",
      "userId": "17515228258510558593"
     },
     "user_tz": -300
    },
    "id": "eb3_OAb1f_Wr",
    "outputId": "5ef3cb20-788f-42ea-9683-8d34bd5581ce"
   },
   "outputs": [],
   "source": [
    "!./run_upscale"
   ]
  },
  {
   "cell_type": "code",
   "execution_count": null,
   "metadata": {
    "id": "264dJ15kqzIc"
   },
   "outputs": [],
   "source": []
  }
 ],
 "metadata": {
  "accelerator": "GPU",
  "colab": {
   "authorship_tag": "ABX9TyMTtlPsRTrFw0Fw5vnI3pKd",
   "collapsed_sections": [],
   "mount_file_id": "1Skt02sHVGeXm703YeLSgBo4USdpFI_ET",
   "name": "testing.ipynb",
   "provenance": []
  },
  "kernelspec": {
   "display_name": "Python 3",
   "language": "python",
   "name": "python3"
  },
  "language_info": {
   "codemirror_mode": {
    "name": "ipython",
    "version": 3
   },
   "file_extension": ".py",
   "mimetype": "text/x-python",
   "name": "python",
   "nbconvert_exporter": "python",
   "pygments_lexer": "ipython3",
   "version": "3.6.9"
  }
 },
 "nbformat": 4,
 "nbformat_minor": 1
}
